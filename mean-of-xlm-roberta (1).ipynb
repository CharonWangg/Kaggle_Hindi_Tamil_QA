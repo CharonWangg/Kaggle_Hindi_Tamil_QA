{
 "cells": [
  {
   "cell_type": "markdown",
   "id": "c83d99d5",
   "metadata": {
    "papermill": {
     "duration": 0.023912,
     "end_time": "2021-11-15T15:05:05.078406",
     "exception": false,
     "start_time": "2021-11-15T15:05:05.054494",
     "status": "completed"
    },
    "tags": []
   },
   "source": [
    "## Install and Import Dependencies"
   ]
  },
  {
   "cell_type": "markdown",
   "id": "7ee42b43",
   "metadata": {
    "papermill": {
     "duration": 0.020844,
     "end_time": "2021-11-15T15:05:05.120921",
     "exception": false,
     "start_time": "2021-11-15T15:05:05.100077",
     "status": "completed"
    },
    "tags": []
   },
   "source": [
    "### Install Apex"
   ]
  },
  {
   "cell_type": "code",
   "execution_count": 1,
   "id": "b69c0c08",
   "metadata": {
    "execution": {
     "iopub.execute_input": "2021-11-15T15:05:05.169834Z",
     "iopub.status.busy": "2021-11-15T15:05:05.168323Z",
     "iopub.status.idle": "2021-11-15T15:05:05.170512Z",
     "shell.execute_reply": "2021-11-15T15:05:05.170984Z",
     "shell.execute_reply.started": "2021-11-15T14:34:14.416855Z"
    },
    "papermill": {
     "duration": 0.029981,
     "end_time": "2021-11-15T15:05:05.171216",
     "exception": false,
     "start_time": "2021-11-15T15:05:05.141235",
     "status": "completed"
    },
    "tags": []
   },
   "outputs": [],
   "source": [
    "# %%writefile setup.sh\n",
    "# git clone https://github.com/NVIDIA/apex\n",
    "# cd apex\n",
    "# pip install -v --no-cache-dir --global-option=\"--cpp_ext\" --global-option=\"--cuda_ext\" ./apex\n",
    "# rm -rf ./apex"
   ]
  },
  {
   "cell_type": "code",
   "execution_count": 2,
   "id": "96065a88",
   "metadata": {
    "execution": {
     "iopub.execute_input": "2021-11-15T15:05:05.221394Z",
     "iopub.status.busy": "2021-11-15T15:05:05.220831Z",
     "iopub.status.idle": "2021-11-15T15:05:05.225030Z",
     "shell.execute_reply": "2021-11-15T15:05:05.224471Z",
     "shell.execute_reply.started": "2021-11-15T14:34:14.432169Z"
    },
    "papermill": {
     "duration": 0.033111,
     "end_time": "2021-11-15T15:05:05.225158",
     "exception": false,
     "start_time": "2021-11-15T15:05:05.192047",
     "status": "completed"
    },
    "tags": []
   },
   "outputs": [],
   "source": [
    "# %%capture\n",
    "# try:\n",
    "#     from apex import amp\n",
    "#     APEX_INSTALLED = True\n",
    "# except ImportError:\n",
    "#     !sh setup.sh\n",
    "# .    APEX_INSTALLED = True\n",
    "\n",
    "APEX_INSTALLED = False"
   ]
  },
  {
   "cell_type": "markdown",
   "id": "92062d5a",
   "metadata": {
    "papermill": {
     "duration": 0.020417,
     "end_time": "2021-11-15T15:05:05.266511",
     "exception": false,
     "start_time": "2021-11-15T15:05:05.246094",
     "status": "completed"
    },
    "tags": []
   },
   "source": [
    "### Import Dependencies"
   ]
  },
  {
   "cell_type": "code",
   "execution_count": 3,
   "id": "80c93a0a",
   "metadata": {
    "execution": {
     "iopub.execute_input": "2021-11-15T15:05:05.323288Z",
     "iopub.status.busy": "2021-11-15T15:05:05.322339Z",
     "iopub.status.idle": "2021-11-15T15:05:13.200206Z",
     "shell.execute_reply": "2021-11-15T15:05:13.200643Z",
     "shell.execute_reply.started": "2021-11-15T14:34:14.443531Z"
    },
    "papermill": {
     "duration": 7.913962,
     "end_time": "2021-11-15T15:05:13.200832",
     "exception": false,
     "start_time": "2021-11-15T15:05:05.286870",
     "status": "completed"
    },
    "tags": []
   },
   "outputs": [
    {
     "name": "stdout",
     "output_type": "stream",
     "text": [
      "Apex AMP Installed :: False\n"
     ]
    }
   ],
   "source": [
    "import os\n",
    "\n",
    "os.environ[\"TOKENIZERS_PARALLELISM\"] = \"false\"\n",
    "\n",
    "import gc\n",
    "\n",
    "gc.enable()\n",
    "\n",
    "import warnings\n",
    "\n",
    "warnings.filterwarnings(\"ignore\", category=UserWarning)\n",
    "\n",
    "import collections\n",
    "import multiprocessing\n",
    "\n",
    "import numpy as np\n",
    "import pandas as pd\n",
    "\n",
    "from string import punctuation\n",
    "\n",
    "import torch\n",
    "import torch.nn as nn\n",
    "import torch.nn.functional as F\n",
    "from torch.utils.data import Dataset, DataLoader, SequentialSampler\n",
    "\n",
    "\n",
    "import transformers\n",
    "from transformers import (\n",
    "    AutoConfig,\n",
    "    AutoModel,\n",
    "    AutoTokenizer,\n",
    "    logging,\n",
    "    MODEL_FOR_QUESTION_ANSWERING_MAPPING,\n",
    ")\n",
    "\n",
    "logging.set_verbosity_warning()\n",
    "logging.set_verbosity_error()\n",
    "\n",
    "def fix_all_seeds(seed):\n",
    "    np.random.seed(seed)\n",
    "    random.seed(seed)\n",
    "    os.environ['PYTHONHASHSEED'] = str(seed)\n",
    "    torch.manual_seed(seed)\n",
    "    torch.cuda.manual_seed(seed)\n",
    "    torch.cuda.manual_seed_all(seed)\n",
    "\n",
    "\n",
    "print(f\"Apex AMP Installed :: {APEX_INSTALLED}\")\n",
    "CPUS_COUNT = multiprocessing.cpu_count()\n",
    "GPUS_COUNT = torch.cuda.device_count()"
   ]
  },
  {
   "cell_type": "markdown",
   "id": "e9464daa",
   "metadata": {
    "papermill": {
     "duration": 0.021125,
     "end_time": "2021-11-15T15:05:13.243557",
     "exception": false,
     "start_time": "2021-11-15T15:05:13.222432",
     "status": "completed"
    },
    "tags": []
   },
   "source": [
    "## Config Define"
   ]
  },
  {
   "cell_type": "code",
   "execution_count": 4,
   "id": "c7b17610",
   "metadata": {
    "execution": {
     "iopub.execute_input": "2021-11-15T15:05:13.291736Z",
     "iopub.status.busy": "2021-11-15T15:05:13.290901Z",
     "iopub.status.idle": "2021-11-15T15:05:13.293393Z",
     "shell.execute_reply": "2021-11-15T15:05:13.292884Z",
     "shell.execute_reply.started": "2021-11-15T14:34:20.566590Z"
    },
    "papermill": {
     "duration": 0.028489,
     "end_time": "2021-11-15T15:05:13.293519",
     "exception": false,
     "start_time": "2021-11-15T15:05:13.265030",
     "status": "completed"
    },
    "tags": []
   },
   "outputs": [],
   "source": [
    "class Config:\n",
    "    # model\n",
    "    model_type = \"xlm_roberta\"\n",
    "    model_name_or_path = \"../input/hugging-face-hub-xlmrobertalargesquad2/xlm-roberta-large-squad2\"\n",
    "    config_name = \"../input/hugging-face-hub-xlmrobertalargesquad2/xlm-roberta-large-squad2\"\n",
    "    fp16 = True if APEX_INSTALLED else False\n",
    "    fp16_opt_level = \"O1\"\n",
    "\n",
    "    # tokenizer\n",
    "    tokenizer_name = \"../input/hugging-face-hub-xlmrobertalargesquad2/xlm-roberta-large-squad2\"\n",
    "    max_seq_length = 400\n",
    "    doc_stride = 135\n",
    "\n",
    "    # test\n",
    "    eval_batch_size = 128"
   ]
  },
  {
   "cell_type": "code",
   "execution_count": 5,
   "id": "d713568b",
   "metadata": {
    "execution": {
     "iopub.execute_input": "2021-11-15T15:05:13.339096Z",
     "iopub.status.busy": "2021-11-15T15:05:13.338301Z",
     "iopub.status.idle": "2021-11-15T15:05:13.340743Z",
     "shell.execute_reply": "2021-11-15T15:05:13.340278Z",
     "shell.execute_reply.started": "2021-11-15T14:34:20.578224Z"
    },
    "papermill": {
     "duration": 0.026635,
     "end_time": "2021-11-15T15:05:13.340852",
     "exception": false,
     "start_time": "2021-11-15T15:05:13.314217",
     "status": "completed"
    },
    "tags": []
   },
   "outputs": [],
   "source": [
    "base_model = \"../input/5foldsroberta/output/\""
   ]
  },
  {
   "cell_type": "markdown",
   "id": "0fa3b5b1",
   "metadata": {
    "papermill": {
     "duration": 0.020703,
     "end_time": "2021-11-15T15:05:13.382962",
     "exception": false,
     "start_time": "2021-11-15T15:05:13.362259",
     "status": "completed"
    },
    "tags": []
   },
   "source": [
    "## Data Process"
   ]
  },
  {
   "cell_type": "code",
   "execution_count": 6,
   "id": "1cfe64e4",
   "metadata": {
    "execution": {
     "iopub.execute_input": "2021-11-15T15:05:13.438122Z",
     "iopub.status.busy": "2021-11-15T15:05:13.435188Z",
     "iopub.status.idle": "2021-11-15T15:05:13.445820Z",
     "shell.execute_reply": "2021-11-15T15:05:13.446576Z",
     "shell.execute_reply.started": "2021-11-15T14:34:20.585287Z"
    },
    "papermill": {
     "duration": 0.042845,
     "end_time": "2021-11-15T15:05:13.446743",
     "exception": false,
     "start_time": "2021-11-15T15:05:13.403898",
     "status": "completed"
    },
    "tags": []
   },
   "outputs": [],
   "source": [
    "class DatasetRetriever(Dataset):\n",
    "    def __init__(self, features):\n",
    "        super(DatasetRetriever, self).__init__()\n",
    "        self.features = features\n",
    "\n",
    "    def __len__(self):\n",
    "        return len(self.features)\n",
    "\n",
    "    def __getitem__(self, item):\n",
    "        feature = self.features[item]\n",
    "\n",
    "        return {\n",
    "            \"input_ids\": torch.tensor(feature[\"input_ids\"], dtype=torch.long),\n",
    "            \"attention_mask\": torch.tensor(feature[\"attention_mask\"], dtype=torch.long),\n",
    "            \"offset_mapping\": feature[\"offset_mapping\"],\n",
    "            \"sequence_ids\": feature[\"sequence_ids\"],\n",
    "            \"id\": feature[\"example_id\"],\n",
    "            \"context\": feature[\"context\"],\n",
    "            \"question\": feature[\"question\"],\n",
    "        }"
   ]
  },
  {
   "cell_type": "markdown",
   "id": "b3999763",
   "metadata": {
    "papermill": {
     "duration": 0.020848,
     "end_time": "2021-11-15T15:05:13.489755",
     "exception": false,
     "start_time": "2021-11-15T15:05:13.468907",
     "status": "completed"
    },
    "tags": []
   },
   "source": [
    "## Model Define"
   ]
  },
  {
   "cell_type": "code",
   "execution_count": 7,
   "id": "d4884356",
   "metadata": {
    "execution": {
     "iopub.execute_input": "2021-11-15T15:05:13.541663Z",
     "iopub.status.busy": "2021-11-15T15:05:13.540808Z",
     "iopub.status.idle": "2021-11-15T15:05:13.542602Z",
     "shell.execute_reply": "2021-11-15T15:05:13.543198Z",
     "shell.execute_reply.started": "2021-11-15T14:34:20.596870Z"
    },
    "papermill": {
     "duration": 0.03223,
     "end_time": "2021-11-15T15:05:13.543347",
     "exception": false,
     "start_time": "2021-11-15T15:05:13.511117",
     "status": "completed"
    },
    "tags": []
   },
   "outputs": [],
   "source": [
    "class Model(nn.Module):\n",
    "    def __init__(self, modelname_or_path, config):\n",
    "        super(Model, self).__init__()\n",
    "        self.config = config\n",
    "        self.xlm_roberta = AutoModel.from_pretrained(modelname_or_path, config=config)\n",
    " \n",
    "        self.qa_outputs = nn.Linear(config.hidden_size, 2)\n",
    "        self.dropout = nn.Dropout(config.hidden_dropout_prob)\n",
    "        self._init_weights(self.qa_outputs)\n",
    "\n",
    "    def _init_weights(self, module):\n",
    "        if isinstance(module, nn.Linear):\n",
    "            module.weight.data.normal_(mean=0.0, std=self.config.initializer_range)\n",
    "            if module.bias is not None:\n",
    "                module.bias.data.zero_()\n",
    "\n",
    "    def forward(self, input_ids, attention_mask=None):\n",
    "        seq = self.xlm_roberta(input_ids, attention_mask=attention_mask)\n",
    "        #sequence_output = self.dropout(seq.last_hidden_state)\n",
    "\n",
    "        qa_logits = self.qa_outputs(seq.last_hidden_state)\n",
    "        \n",
    "        start_logits, end_logits = qa_logits.split(1, dim=-1)\n",
    "        start_logits = start_logits.squeeze(-1)\n",
    "        end_logits = end_logits.squeeze(-1)\n",
    "\n",
    "        return start_logits, end_logits"
   ]
  },
  {
   "cell_type": "code",
   "execution_count": 8,
   "id": "3f49af21",
   "metadata": {
    "execution": {
     "iopub.execute_input": "2021-11-15T15:05:13.591648Z",
     "iopub.status.busy": "2021-11-15T15:05:13.590852Z",
     "iopub.status.idle": "2021-11-15T15:05:13.593544Z",
     "shell.execute_reply": "2021-11-15T15:05:13.593051Z",
     "shell.execute_reply.started": "2021-11-15T14:34:20.609415Z"
    },
    "papermill": {
     "duration": 0.028553,
     "end_time": "2021-11-15T15:05:13.593670",
     "exception": false,
     "start_time": "2021-11-15T15:05:13.565117",
     "status": "completed"
    },
    "tags": []
   },
   "outputs": [],
   "source": [
    "# class Model(nn.Module):\n",
    "#     def __init__(self, modelname_or_path, config):\n",
    "#         super(Model, self).__init__()\n",
    "#         self.config = config\n",
    "#         self.xlm_roberta = AutoModel.from_pretrained(modelname_or_path, config=config)\n",
    "#         self.qa_outputs = nn.Linear(config.hidden_size*8, 2)\n",
    "#         self.dropout = nn.Dropout(config.hidden_dropout_prob)\n",
    "#         self.fusion_head = FusionHead()\n",
    "#         self._init_weights(self.qa_outputs)\n",
    "        \n",
    "#     def _init_weights(self, module):\n",
    "#         if isinstance(module, nn.Linear):\n",
    "#             module.weight.data.normal_(mean=0.0, std=self.config.initializer_range)\n",
    "#             if module.bias is not None:\n",
    "#                 module.bias.data.zero_()\n",
    "\n",
    "#     def forward(\n",
    "#         self, \n",
    "#         input_ids, \n",
    "#         attention_mask=None, \n",
    "#         # token_type_ids=None\n",
    "#     ):\n",
    "#         outputs = self.xlm_roberta(\n",
    "#             input_ids,\n",
    "#             attention_mask=attention_mask,\n",
    "#             output_hidden_states=True\n",
    "#         )\n",
    "#         #\n",
    "#         last_4_output = outputs.hidden_states\n",
    "#         last_4_layers = torch.cat([last_4_output[i] for i in [9,14,19,23]],dim=-1) # B*L*4H\n",
    "#         last_4_layers = self.dropout(last_4_layers)\n",
    "#         #sequence_output = outputs.last_hidden_state\n",
    "#         fusion_output = self.fusion_head(last_4_layers)\n",
    "#         fusion_output = torch.cat((last_4_layers,fusion_output),dim=-1)\n",
    "\n",
    "#         fusion_output = self.dropout(fusion_output)\n",
    "#         qa_logits = self.qa_outputs(fusion_output)\n",
    "        \n",
    "#         start_logits, end_logits = qa_logits.split(1, dim=-1)\n",
    "#         start_logits = start_logits.squeeze(-1)\n",
    "#         end_logits = end_logits.squeeze(-1)\n",
    "    \n",
    "#         return start_logits, end_logits"
   ]
  },
  {
   "cell_type": "code",
   "execution_count": 9,
   "id": "8fddb426",
   "metadata": {
    "execution": {
     "iopub.execute_input": "2021-11-15T15:05:13.642573Z",
     "iopub.status.busy": "2021-11-15T15:05:13.641738Z",
     "iopub.status.idle": "2021-11-15T15:05:13.643703Z",
     "shell.execute_reply": "2021-11-15T15:05:13.644237Z",
     "shell.execute_reply.started": "2021-11-15T14:34:20.618229Z"
    },
    "papermill": {
     "duration": 0.029573,
     "end_time": "2021-11-15T15:05:13.644380",
     "exception": false,
     "start_time": "2021-11-15T15:05:13.614807",
     "status": "completed"
    },
    "tags": []
   },
   "outputs": [],
   "source": [
    "class FusionHead(nn.Module):\n",
    "  def __init__(self):\n",
    "    super(FusionHead,self).__init__()\n",
    "    self.q = nn.Linear(1024*4,512)\n",
    "    self.v = nn.Linear(512,1)\n",
    "  \n",
    "  def forward(self,seq):\n",
    "    # seq : (B,L,H*4)\n",
    "    score = self.v(nn.functional.tanh(self.q(seq))) # B*L*1\n",
    "    score = nn.functional.softmax(score,dim=1) \n",
    "    seq =  score*seq\n",
    "    return seq"
   ]
  },
  {
   "cell_type": "code",
   "execution_count": 10,
   "id": "eea37201",
   "metadata": {
    "execution": {
     "iopub.execute_input": "2021-11-15T15:05:13.692100Z",
     "iopub.status.busy": "2021-11-15T15:05:13.691274Z",
     "iopub.status.idle": "2021-11-15T15:05:13.693138Z",
     "shell.execute_reply": "2021-11-15T15:05:13.693656Z",
     "shell.execute_reply.started": "2021-11-15T14:34:20.632762Z"
    },
    "papermill": {
     "duration": 0.027671,
     "end_time": "2021-11-15T15:05:13.693794",
     "exception": false,
     "start_time": "2021-11-15T15:05:13.666123",
     "status": "completed"
    },
    "tags": []
   },
   "outputs": [],
   "source": [
    "def make_model(params):\n",
    "    config = AutoConfig.from_pretrained(params.config_name)\n",
    "    tokenizer = AutoTokenizer.from_pretrained(params.tokenizer_name)\n",
    "    model = Model(params.model_name_or_path, config=config)\n",
    "    return config, tokenizer, model"
   ]
  },
  {
   "cell_type": "markdown",
   "id": "b5537c2f",
   "metadata": {
    "papermill": {
     "duration": 0.021325,
     "end_time": "2021-11-15T15:05:13.736552",
     "exception": false,
     "start_time": "2021-11-15T15:05:13.715227",
     "status": "completed"
    },
    "tags": []
   },
   "source": [
    "## Model Test"
   ]
  },
  {
   "cell_type": "markdown",
   "id": "9aa001d0",
   "metadata": {
    "papermill": {
     "duration": 0.020983,
     "end_time": "2021-11-15T15:05:13.779443",
     "exception": false,
     "start_time": "2021-11-15T15:05:13.758460",
     "status": "completed"
    },
    "tags": []
   },
   "source": [
    "### Prepare Test Features"
   ]
  },
  {
   "cell_type": "code",
   "execution_count": 11,
   "id": "397cd967",
   "metadata": {
    "execution": {
     "iopub.execute_input": "2021-11-15T15:05:13.831825Z",
     "iopub.status.busy": "2021-11-15T15:05:13.830950Z",
     "iopub.status.idle": "2021-11-15T15:05:13.833199Z",
     "shell.execute_reply": "2021-11-15T15:05:13.833678Z",
     "shell.execute_reply.started": "2021-11-15T14:34:20.641938Z"
    },
    "papermill": {
     "duration": 0.032667,
     "end_time": "2021-11-15T15:05:13.833835",
     "exception": false,
     "start_time": "2021-11-15T15:05:13.801168",
     "status": "completed"
    },
    "tags": []
   },
   "outputs": [],
   "source": [
    "def getTestFeatures(params, example, tokenizer):\n",
    "    example[\"question\"] = example[\"question\"].lstrip()\n",
    "\n",
    "    tokenized_example = tokenizer(\n",
    "        example[\"question\"],\n",
    "        example[\"context\"],\n",
    "        truncation=\"only_second\",\n",
    "        max_length=params.max_seq_length,\n",
    "        stride=params.doc_stride,\n",
    "        return_overflowing_tokens=True,\n",
    "        return_offsets_mapping=True,\n",
    "        padding=\"max_length\",\n",
    "    )\n",
    "\n",
    "    features = []\n",
    "    for i in range(len(tokenized_example[\"input_ids\"])):\n",
    "        feature = {}\n",
    "        feature[\"example_id\"] = example[\"id\"]\n",
    "        feature[\"context\"] = example[\"context\"]\n",
    "        feature[\"question\"] = example[\"question\"]\n",
    "        feature[\"input_ids\"] = tokenized_example[\"input_ids\"][i]\n",
    "        feature[\"attention_mask\"] = tokenized_example[\"attention_mask\"][i]\n",
    "        feature[\"offset_mapping\"] = tokenized_example[\"offset_mapping\"][i]\n",
    "        feature[\"sequence_ids\"] = [\n",
    "            0 if i is None else i for i in tokenized_example.sequence_ids(i)\n",
    "        ]\n",
    "        features.append(feature)\n",
    "\n",
    "    return features"
   ]
  },
  {
   "cell_type": "markdown",
   "id": "abadaf2f",
   "metadata": {
    "papermill": {
     "duration": 0.020918,
     "end_time": "2021-11-15T15:05:13.876324",
     "exception": false,
     "start_time": "2021-11-15T15:05:13.855406",
     "status": "completed"
    },
    "tags": []
   },
   "source": [
    "### Post-process"
   ]
  },
  {
   "cell_type": "code",
   "execution_count": 12,
   "id": "2fc235c4",
   "metadata": {
    "execution": {
     "iopub.execute_input": "2021-11-15T15:05:13.927337Z",
     "iopub.status.busy": "2021-11-15T15:05:13.926507Z",
     "iopub.status.idle": "2021-11-15T15:05:13.928940Z",
     "shell.execute_reply": "2021-11-15T15:05:13.928463Z",
     "shell.execute_reply.started": "2021-11-15T14:34:20.656286Z"
    },
    "papermill": {
     "duration": 0.031021,
     "end_time": "2021-11-15T15:05:13.929054",
     "exception": false,
     "start_time": "2021-11-15T15:05:13.898033",
     "status": "completed"
    },
    "tags": []
   },
   "outputs": [],
   "source": [
    "def getFeatureExampleIdex(features, examples):\n",
    "    example_id_to_index = {k: i for i, k in enumerate(examples[\"id\"])}\n",
    "    features_per_example = collections.defaultdict(list)\n",
    "    for i, feature in enumerate(features):\n",
    "        features_per_example[example_id_to_index[feature[\"example_id\"]]].append(i)\n",
    "\n",
    "    return features_per_example\n",
    "\n",
    "\n",
    "def getOffset(feature):\n",
    "    return [\n",
    "        (off if feature[\"sequence_ids\"][i] == 1 else None)\n",
    "        for i, off in enumerate(feature[\"offset_mapping\"])\n",
    "    ]\n",
    "\n",
    "\n",
    "def validateAnswer(start_index, end_index, offset_mapping, max_answer_length):\n",
    "    if (\n",
    "        start_index >= len(offset_mapping)\n",
    "        or end_index >= len(offset_mapping)\n",
    "        or offset_mapping[start_index] is None\n",
    "        or offset_mapping[end_index] is None\n",
    "        or end_index < start_index\n",
    "        or end_index - start_index + 1 > max_answer_length\n",
    "    ):\n",
    "        return False\n",
    "\n",
    "    return True"
   ]
  },
  {
   "cell_type": "code",
   "execution_count": 13,
   "id": "22f31733",
   "metadata": {
    "execution": {
     "iopub.execute_input": "2021-11-15T15:05:13.980860Z",
     "iopub.status.busy": "2021-11-15T15:05:13.979820Z",
     "iopub.status.idle": "2021-11-15T15:05:13.987040Z",
     "shell.execute_reply": "2021-11-15T15:05:13.986536Z",
     "shell.execute_reply.started": "2021-11-15T14:34:20.667363Z"
    },
    "papermill": {
     "duration": 0.036377,
     "end_time": "2021-11-15T15:05:13.987160",
     "exception": false,
     "start_time": "2021-11-15T15:05:13.950783",
     "status": "completed"
    },
    "tags": []
   },
   "outputs": [],
   "source": [
    "def postprocess(\n",
    "    examples, features, raw_predictions, n_best_size=20, max_answer_length=30\n",
    "):\n",
    "    features_per_example = getFeatureExampleIdex(features, examples)\n",
    "\n",
    "    predictions = collections.OrderedDict()\n",
    "\n",
    "    print(f\"Post-processing {len(examples)} example predictions\")\n",
    "\n",
    "    all_start_logits, all_end_logits = raw_predictions\n",
    "\n",
    "    for example_index, example in examples.iterrows():\n",
    "        feature_index = features_per_example[example_index]\n",
    "\n",
    "        min_score = None\n",
    "        valid_answers = []\n",
    "\n",
    "        context = example[\"context\"]\n",
    "        for fi in feature_index:\n",
    "            start_logits = all_start_logits[fi]\n",
    "            end_logits = all_end_logits[fi]\n",
    "\n",
    "            offset_mapping = getOffset(features[fi])\n",
    "\n",
    "            cls_index = features[fi][\"input_ids\"].index(tokenizer.cls_token_id)\n",
    "            feature_score = start_logits[cls_index] + end_logits[cls_index]\n",
    "            if min_score is None or min_score < feature_score:\n",
    "                min_score = feature_score\n",
    "\n",
    "            start_indexes = np.argsort(start_logits)[\n",
    "                -1 : -n_best_size - 1 : -1\n",
    "            ].tolist()\n",
    "            end_indexes = np.argsort(end_logits)[-1 : -n_best_size - 1 : -1].tolist()\n",
    "            for start_index in start_indexes:\n",
    "                for end_index in end_indexes:\n",
    "                    if validateAnswer(\n",
    "                        start_index, end_index, offset_mapping, max_answer_length\n",
    "                    ):\n",
    "\n",
    "                        start_char = offset_mapping[start_index][0]\n",
    "                        end_char = offset_mapping[end_index][1]\n",
    "                        valid_answers.append(\n",
    "                            {\n",
    "                                \"score\": start_logits[start_index]\n",
    "                                + end_logits[end_index],\n",
    "                                \"text\": context[start_char:end_char],\n",
    "                            }\n",
    "                        )\n",
    "\n",
    "        best_answer = (\n",
    "            sorted(valid_answers, key=lambda x: x[\"score\"], reverse=True)[0]\n",
    "            if valid_answers\n",
    "            else {\"text\": \"\", \"score\": 0.0}\n",
    "        )\n",
    "        #print(sorted(valid_answers, key=lambda x: x[\"score\"], reverse=True)[:5])\n",
    "        predictions[example[\"id\"]] = best_answer[\"text\"]\n",
    "\n",
    "    return predictions"
   ]
  },
  {
   "cell_type": "markdown",
   "id": "c81ccdc7",
   "metadata": {
    "papermill": {
     "duration": 0.020647,
     "end_time": "2021-11-15T15:05:14.029840",
     "exception": false,
     "start_time": "2021-11-15T15:05:14.009193",
     "status": "completed"
    },
    "tags": []
   },
   "source": [
    "### Predict"
   ]
  },
  {
   "cell_type": "code",
   "execution_count": 14,
   "id": "2da749c9",
   "metadata": {
    "execution": {
     "iopub.execute_input": "2021-11-15T15:05:14.080261Z",
     "iopub.status.busy": "2021-11-15T15:05:14.079376Z",
     "iopub.status.idle": "2021-11-15T15:05:14.081334Z",
     "shell.execute_reply": "2021-11-15T15:05:14.081789Z",
     "shell.execute_reply.started": "2021-11-15T14:34:20.683144Z"
    },
    "papermill": {
     "duration": 0.03096,
     "end_time": "2021-11-15T15:05:14.081940",
     "exception": false,
     "start_time": "2021-11-15T15:05:14.050980",
     "status": "completed"
    },
    "tags": []
   },
   "outputs": [],
   "source": [
    "def loadTestData():\n",
    "    test = pd.read_csv(\"../input/chaii-hindi-and-tamil-question-answering/test.csv\")\n",
    "\n",
    "    test[\"context\"] = test[\"context\"].apply(lambda x: \" \".join(x.split()))\n",
    "    test[\"question\"] = test[\"question\"].apply(lambda x: \" \".join(x.split()))\n",
    "\n",
    "    tokenizer = AutoTokenizer.from_pretrained(Config().tokenizer_name)\n",
    "\n",
    "    test_features = []\n",
    "    for i, row in test.iterrows():\n",
    "        test_features += getTestFeatures(Config(), row, tokenizer)\n",
    "\n",
    "    test_dataset = DatasetRetriever(test_features)\n",
    "\n",
    "    test_dataloader = DataLoader(\n",
    "        test_dataset,\n",
    "        batch_size=Config().eval_batch_size,\n",
    "        sampler=SequentialSampler(test_dataset),\n",
    "        num_workers=min(CPUS_COUNT, GPUS_COUNT * 4) if GPUS_COUNT else CPUS_COUNT - 1,\n",
    "        pin_memory=True,\n",
    "        drop_last=False,\n",
    "    )\n",
    "\n",
    "    return test_dataloader"
   ]
  },
  {
   "cell_type": "code",
   "execution_count": 15,
   "id": "67287d61",
   "metadata": {
    "execution": {
     "iopub.execute_input": "2021-11-15T15:05:14.132959Z",
     "iopub.status.busy": "2021-11-15T15:05:14.132032Z",
     "iopub.status.idle": "2021-11-15T15:05:14.134155Z",
     "shell.execute_reply": "2021-11-15T15:05:14.134547Z",
     "shell.execute_reply.started": "2021-11-15T14:34:20.694293Z"
    },
    "papermill": {
     "duration": 0.031358,
     "end_time": "2021-11-15T15:05:14.134679",
     "exception": false,
     "start_time": "2021-11-15T15:05:14.103321",
     "status": "completed"
    },
    "tags": []
   },
   "outputs": [],
   "source": [
    "def getPredictions(checkpoint_path):\n",
    "    config, tokenizer, model = make_model(Config())\n",
    "    model.cuda()\n",
    "    model.load_state_dict(torch.load(checkpoint_path))\n",
    "    model.eval()\n",
    "\n",
    "    start_logits = []\n",
    "    end_logits = []\n",
    "    for batch in loadTestData():\n",
    "        with torch.no_grad():\n",
    "            outputs_start, outputs_end = model(\n",
    "                batch[\"input_ids\"].cuda(), batch[\"attention_mask\"].cuda()\n",
    "            )\n",
    "            start_logits.append(outputs_start.cpu().numpy().tolist())\n",
    "            end_logits.append(outputs_end.cpu().numpy().tolist())\n",
    "            del outputs_start, outputs_end\n",
    "    del model, tokenizer, config\n",
    "    gc.collect()\n",
    "    return np.vstack(start_logits), np.vstack(end_logits)"
   ]
  },
  {
   "cell_type": "code",
   "execution_count": 16,
   "id": "25925b3b",
   "metadata": {
    "execution": {
     "iopub.execute_input": "2021-11-15T15:05:14.181986Z",
     "iopub.status.busy": "2021-11-15T15:05:14.181406Z",
     "iopub.status.idle": "2021-11-15T15:05:16.246205Z",
     "shell.execute_reply": "2021-11-15T15:05:16.245242Z",
     "shell.execute_reply.started": "2021-11-15T14:34:20.704608Z"
    },
    "papermill": {
     "duration": 2.091066,
     "end_time": "2021-11-15T15:05:16.246349",
     "exception": false,
     "start_time": "2021-11-15T15:05:14.155283",
     "status": "completed"
    },
    "tags": []
   },
   "outputs": [],
   "source": [
    "test = pd.read_csv('../input/chaii-hindi-and-tamil-question-answering/test.csv')\n",
    "\n",
    "test['context'] = test['context'].apply(lambda x: ' '.join(x.split()))\n",
    "test['question'] = test['question'].apply(lambda x: ' '.join(x.split()))\n",
    "\n",
    "tokenizer = AutoTokenizer.from_pretrained(Config().tokenizer_name)\n",
    "\n",
    "test_features = []\n",
    "for i, row in test.iterrows():\n",
    "    test_features += getTestFeatures(Config(), row, tokenizer)"
   ]
  },
  {
   "cell_type": "code",
   "execution_count": 17,
   "id": "5373a2c8",
   "metadata": {
    "execution": {
     "iopub.execute_input": "2021-11-15T15:05:16.300612Z",
     "iopub.status.busy": "2021-11-15T15:05:16.299655Z",
     "iopub.status.idle": "2021-11-15T15:16:47.881147Z",
     "shell.execute_reply": "2021-11-15T15:16:47.880587Z",
     "shell.execute_reply.started": "2021-11-15T14:43:51.190188Z"
    },
    "papermill": {
     "duration": 691.613601,
     "end_time": "2021-11-15T15:16:47.881341",
     "exception": false,
     "start_time": "2021-11-15T15:05:16.267740",
     "status": "completed"
    },
    "tags": []
   },
   "outputs": [],
   "source": [
    "weight = np.exp([0.7189407410715103,0.7009346291550066,0.7423611924357781,0.7452209457707667,0.7328501876639222\\\n",
    "          ,0.7409769800815581,0.7214328330609091,0.7293411617805697,0.8074233752981514,0.7191098087529867,\\\n",
    "          0.7982931852209235,0.7737983627682914,0.7776064350570635,0.7843168579166172,0.7358640175404093,\\\n",
    "                 0.7166820931307615])\n",
    "\n",
    "\n",
    "start_logits = [0 for i in range(len(weight))]\n",
    "end_logits = [0 for i in range(len(weight))]\n",
    "start_logits[0], end_logits[0] = getPredictions(\"../input/5foldsroberta/output/checkpoint-fold-0/pytorch_model.bin\")\n",
    "start_logits[1], end_logits[1] = getPredictions(\"../input/5foldsroberta/output/checkpoint-fold-1/pytorch_model.bin\")\n",
    "start_logits[2], end_logits[2] = getPredictions(\"../input/5foldsroberta/output/checkpoint-fold-2/pytorch_model.bin\")\n",
    "start_logits[3], end_logits[3] = getPredictions(\"../input/5foldsroberta/output/checkpoint-fold-3/pytorch_model.bin\")\n",
    "start_logits[4], end_logits[4] = getPredictions(\"../input/5foldsroberta/output/checkpoint-fold-4/pytorch_model.bin\")\n",
    "start_logits[5], end_logits[5] = getPredictions(\"../input/adding-fusion-1/simple_adding_model.bin\")\n",
    "start_logits[6], end_logits[6] = getPredictions(\"../input/self-hindi-v6/fold-0.bin\")\n",
    "start_logits[7], end_logits[7] = getPredictions(\"../input/self-hindi-v6/fold-1.bin\")\n",
    "start_logits[8], end_logits[8] = getPredictions(\"../input/overfitting-5-fold-128/fold-2.bin\")\n",
    "start_logits[9], end_logits[9] = getPredictions(\"../input/self-hindi-v6/fold-3.bin\")\n",
    "start_logits[10], end_logits[10] = getPredictions(\"../input/overfitting-5-fold-128/fold-3.bin\")\n",
    "start_logits[11], end_logits[11] = getPredictions(\"../input/deep-wiki-v2/fold_0.bin\")\n",
    "start_logits[12], end_logits[12] = getPredictions(\"../input/deep-wiki-v2/fold_1.bin\")\n",
    "start_logits[13], end_logits[13] = getPredictions(\"../input/deep-wiki-v2/fold_2.bin\")\n",
    "start_logits[14], end_logits[14] = getPredictions(\"../input/deep-wiki-v2/fold_3.bin\")\n",
    "start_logits[15], end_logits[15] = getPredictions(\"../input/deep-wiki-v2/fold_4.bin\")\n",
    "\n",
    "\n",
    "\n"
   ]
  },
  {
   "cell_type": "code",
   "execution_count": 18,
   "id": "71db873a",
   "metadata": {
    "execution": {
     "iopub.execute_input": "2021-11-15T15:16:47.935030Z",
     "iopub.status.busy": "2021-11-15T15:16:47.934425Z",
     "iopub.status.idle": "2021-11-15T15:16:47.942819Z",
     "shell.execute_reply": "2021-11-15T15:16:47.943308Z",
     "shell.execute_reply.started": "2021-11-15T14:57:11.651992Z"
    },
    "papermill": {
     "duration": 0.036146,
     "end_time": "2021-11-15T15:16:47.943449",
     "exception": false,
     "start_time": "2021-11-15T15:16:47.907303",
     "status": "completed"
    },
    "tags": []
   },
   "outputs": [],
   "source": [
    "\n",
    "start_logits_,end_logits_ = 0,0\n",
    "for i in range(len(weight)):\n",
    "    start_logits_ += start_logits[i]*weight[i]/np.sum(weight)\n",
    "    end_logits_ += end_logits[i]*weight[i]/np.sum(weight)\n",
    "#     start_logits_ += start_logits[i]*weight[i]/np.sum(weight)\n",
    "#     end_logits_ += end_logits[i]*weight[i]/np.sum(weight)\n"
   ]
  },
  {
   "cell_type": "code",
   "execution_count": 19,
   "id": "28ce3eb6",
   "metadata": {
    "execution": {
     "iopub.execute_input": "2021-11-15T15:16:47.993129Z",
     "iopub.status.busy": "2021-11-15T15:16:47.992538Z",
     "iopub.status.idle": "2021-11-15T15:16:48.072516Z",
     "shell.execute_reply": "2021-11-15T15:16:48.073163Z",
     "shell.execute_reply.started": "2021-11-15T14:57:14.003771Z"
    },
    "papermill": {
     "duration": 0.10814,
     "end_time": "2021-11-15T15:16:48.073329",
     "exception": false,
     "start_time": "2021-11-15T15:16:47.965189",
     "status": "completed"
    },
    "tags": []
   },
   "outputs": [
    {
     "name": "stdout",
     "output_type": "stream",
     "text": [
      "Post-processing 5 example predictions\n"
     ]
    }
   ],
   "source": [
    "fin_preds = postprocess(test, test_features, (start_logits_, end_logits_))\n",
    "\n",
    "submission = []\n",
    "for p1, p2 in fin_preds.items():\n",
    "    p2 = \" \".join(p2.split())\n",
    "    p2 = p2.strip(punctuation)\n",
    "    submission.append((p1, p2))\n",
    "\n",
    "sample = pd.DataFrame(submission, columns=[\"id\", \"PredictionString\"])\n",
    "\n",
    "test_data = pd.merge(left=test, right=sample, on=\"id\")"
   ]
  },
  {
   "cell_type": "code",
   "execution_count": 20,
   "id": "f550d770",
   "metadata": {
    "execution": {
     "iopub.execute_input": "2021-11-15T15:16:48.135074Z",
     "iopub.status.busy": "2021-11-15T15:16:48.133031Z",
     "iopub.status.idle": "2021-11-15T15:16:48.153664Z",
     "shell.execute_reply": "2021-11-15T15:16:48.153218Z",
     "shell.execute_reply.started": "2021-11-15T14:57:16.478734Z"
    },
    "papermill": {
     "duration": 0.057349,
     "end_time": "2021-11-15T15:16:48.153794",
     "exception": false,
     "start_time": "2021-11-15T15:16:48.096445",
     "status": "completed"
    },
    "tags": []
   },
   "outputs": [],
   "source": [
    "bad_starts = [\".\", \",\", \"(\", \")\", \"-\", \"–\", \",\", \";\"]\n",
    "bad_endings = [\"...\", \"-\", \"(\", \")\", \"–\", \",\", \";\"]\n",
    "\n",
    "tamil_ad = \"கி.பி\"\n",
    "tamil_bc = \"கி.மு\"\n",
    "tamil_km = \"கி.மீ\"\n",
    "hindi_ad = \"ई\"\n",
    "hindi_bc = \"ई.पू\"\n",
    "\n",
    "\n",
    "cleaned_preds = []\n",
    "for pred, context in test_data[[\"PredictionString\", \"context\"]].to_numpy():\n",
    "    if pred == \"\":\n",
    "        cleaned_preds.append(pred)\n",
    "        continue\n",
    "    while any([pred.startswith(y) for y in bad_starts]):\n",
    "        pred = pred[1:]\n",
    "    while any([pred.endswith(y) for y in bad_endings]):\n",
    "        if pred.endswith(\"...\"):\n",
    "            pred = pred[:-3]\n",
    "        else:\n",
    "            pred = pred[:-1]\n",
    "    if pred.endswith(\"...\"):\n",
    "        pred = pred[:-3]\n",
    "\n",
    "    if (\n",
    "        any(\n",
    "            [\n",
    "                pred.endswith(tamil_ad),\n",
    "                pred.endswith(tamil_bc),\n",
    "                pred.endswith(tamil_km),\n",
    "                pred.endswith(hindi_ad),\n",
    "                pred.endswith(hindi_bc),\n",
    "            ]\n",
    "        )\n",
    "        and pred + \".\" in context\n",
    "    ):\n",
    "        pred = pred + \".\"\n",
    "\n",
    "    cleaned_preds.append(pred)\n",
    "\n",
    "test_data[\"PredictionString\"] = cleaned_preds\n",
    "test_data[[\"id\", \"PredictionString\"]].to_csv(\"submission.csv\", index=False)"
   ]
  },
  {
   "cell_type": "code",
   "execution_count": 21,
   "id": "f2aa61fd",
   "metadata": {
    "execution": {
     "iopub.execute_input": "2021-11-15T15:16:48.202923Z",
     "iopub.status.busy": "2021-11-15T15:16:48.201263Z",
     "iopub.status.idle": "2021-11-15T15:16:48.203527Z",
     "shell.execute_reply": "2021-11-15T15:16:48.203979Z",
     "shell.execute_reply.started": "2021-11-15T14:57:18.834869Z"
    },
    "papermill": {
     "duration": 0.028635,
     "end_time": "2021-11-15T15:16:48.204112",
     "exception": false,
     "start_time": "2021-11-15T15:16:48.175477",
     "status": "completed"
    },
    "tags": []
   },
   "outputs": [],
   "source": [
    "# test_data[[\"id\", \"PredictionString\"]]"
   ]
  },
  {
   "cell_type": "code",
   "execution_count": null,
   "id": "1780ee20",
   "metadata": {
    "papermill": {
     "duration": 0.020576,
     "end_time": "2021-11-15T15:16:48.246065",
     "exception": false,
     "start_time": "2021-11-15T15:16:48.225489",
     "status": "completed"
    },
    "tags": []
   },
   "outputs": [],
   "source": []
  }
 ],
 "metadata": {
  "kernelspec": {
   "display_name": "Python 3",
   "language": "python",
   "name": "python3"
  },
  "language_info": {
   "codemirror_mode": {
    "name": "ipython",
    "version": 3
   },
   "file_extension": ".py",
   "mimetype": "text/x-python",
   "name": "python",
   "nbconvert_exporter": "python",
   "pygments_lexer": "ipython3",
   "version": "3.7.10"
  },
  "papermill": {
   "default_parameters": {},
   "duration": 714.826374,
   "end_time": "2021-11-15T15:16:51.376543",
   "environment_variables": {},
   "exception": null,
   "input_path": "__notebook__.ipynb",
   "output_path": "__notebook__.ipynb",
   "parameters": {},
   "start_time": "2021-11-15T15:04:56.550169",
   "version": "2.3.3"
  }
 },
 "nbformat": 4,
 "nbformat_minor": 5
}
